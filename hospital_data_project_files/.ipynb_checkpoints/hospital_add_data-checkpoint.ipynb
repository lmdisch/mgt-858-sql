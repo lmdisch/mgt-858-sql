{
 "cells": [
  {
   "cell_type": "markdown",
   "id": "broke-yellow",
   "metadata": {},
   "source": [
    "# MGT 858: Database Systems\n",
    "## Hospital Data Schema\n",
    "\n",
    "The code written below seeks to add data to a postgresql database"
   ]
  },
  {
   "cell_type": "markdown",
   "id": "worse-frame",
   "metadata": {},
   "source": [
    "### Import packages"
   ]
  },
  {
   "cell_type": "code",
   "execution_count": 1,
   "id": "sexual-queue",
   "metadata": {},
   "outputs": [
    {
     "name": "stdout",
     "output_type": "stream",
     "text": [
      "Collecting faker\n",
      "  Downloading Faker-6.6.0-py3-none-any.whl (1.2 MB)\n",
      "Requirement already satisfied: python-dateutil>=2.4 in c:\\users\\logan\\anaconda3\\lib\\site-packages (from faker) (2.8.1)\n",
      "Collecting text-unidecode==1.3\n",
      "  Downloading text_unidecode-1.3-py2.py3-none-any.whl (78 kB)\n",
      "Requirement already satisfied: six>=1.5 in c:\\users\\logan\\anaconda3\\lib\\site-packages (from python-dateutil>=2.4->faker) (1.15.0)\n",
      "Installing collected packages: text-unidecode, faker\n",
      "Successfully installed faker-6.6.0 text-unidecode-1.3\n"
     ]
    }
   ],
   "source": [
    "!pip install faker"
   ]
  },
  {
   "cell_type": "code",
   "execution_count": 6,
   "id": "pregnant-musician",
   "metadata": {},
   "outputs": [],
   "source": [
    "import random\n",
    "import numpy as np\n",
    "import pandas as pd\n",
    "from datetime import timedelta\n",
    "import datetime\n",
    "import sqlite3\n",
    "from faker import Faker"
   ]
  },
  {
   "cell_type": "markdown",
   "id": "floppy-rugby",
   "metadata": {},
   "source": [
    "### Add randomly generated patients to the hospital "
   ]
  },
  {
   "cell_type": "code",
   "execution_count": 8,
   "id": "going-demographic",
   "metadata": {},
   "outputs": [],
   "source": [
    "# Pre-existing SSNs for patients\n",
    "SSN_list = [500000001, 500000002, 500000003, 500000004, 500000005, 500000006, 500000007, 500000008]\n",
    "\n",
    "# Create randomly generated data for new patients\n",
    "def add_patients(num_to_add):\n",
    "    fake = Faker()\n",
    "    for i in range(num_to_add):\n",
    "        SSN = 500000009 + i\n",
    "        SSN_list.append(SSN)\n",
    "        full_name = fake.name()\n",
    "        address = fake.address()\n",
    "        phone_number = str(random.randint(100,999)) + \"-\" + str(random.randint(1000,9999))\n",
    "        insurance_id = random.randint(10000000,99999999)\n",
    "        pcp = random.randint(1,13)\n",
    "        print(f\"INSERT INTO patients (SSN, patient_name, address, phone, insurance_id, primary_care_provider) VALUES({SSN}, '{full_name}', '{address}', '{phone_number}', {insurance_id}, {pcp});\")  "
   ]
  },
  {
   "cell_type": "code",
   "execution_count": 9,
   "id": "complimentary-bandwidth",
   "metadata": {},
   "outputs": [
    {
     "name": "stdout",
     "output_type": "stream",
     "text": [
      "INSERT INTO patients (SSN, patient_name, address, phone, insurance_id, primary_care_provider) VALUES(500000009, 'Selena Coleman', '4257 Walter Cove Suite 983\n",
      "New Clairefort, VA 54864', '455-4520', 10797656, 12);\n",
      "INSERT INTO patients (SSN, patient_name, address, phone, insurance_id, primary_care_provider) VALUES(500000010, 'Ralph Perez', '6357 Wilson Crescent Apt. 749\n",
      "West Melissaside, VT 22680', '661-8606', 79779148, 8);\n",
      "INSERT INTO patients (SSN, patient_name, address, phone, insurance_id, primary_care_provider) VALUES(500000011, 'Marvin Edwards', '935 Lynch Ferry Suite 998\n",
      "Jeffersonburgh, CT 39688', '554-5757', 65080298, 11);\n",
      "INSERT INTO patients (SSN, patient_name, address, phone, insurance_id, primary_care_provider) VALUES(500000012, 'Stephanie Walton', '377 Black Road\n",
      "Albertfort, WY 15057', '925-2025', 99298393, 5);\n",
      "INSERT INTO patients (SSN, patient_name, address, phone, insurance_id, primary_care_provider) VALUES(500000013, 'Patricia Ellis', '7498 Welch Glens\n",
      "Lake William, ME 32218', '617-7835', 98511434, 12);\n",
      "INSERT INTO patients (SSN, patient_name, address, phone, insurance_id, primary_care_provider) VALUES(500000014, 'Jessica Byrd', '45294 Jamie Place\n",
      "West Traci, NV 39273', '843-1919', 97328969, 2);\n",
      "INSERT INTO patients (SSN, patient_name, address, phone, insurance_id, primary_care_provider) VALUES(500000015, 'Christopher Campbell', '0577 Harris Vista Apt. 538\n",
      "Hutchinsonchester, NY 30304', '159-7336', 72424671, 13);\n",
      "INSERT INTO patients (SSN, patient_name, address, phone, insurance_id, primary_care_provider) VALUES(500000016, 'Brittany Salinas', 'USNS Friedman\n",
      "FPO AA 77850', '256-9568', 66147834, 1);\n",
      "INSERT INTO patients (SSN, patient_name, address, phone, insurance_id, primary_care_provider) VALUES(500000017, 'Erin Armstrong', '32932 Lynch Mountain\n",
      "North Melissa, ID 43575', '325-5567', 12899911, 5);\n",
      "INSERT INTO patients (SSN, patient_name, address, phone, insurance_id, primary_care_provider) VALUES(500000018, 'Michael Duarte', '400 Jasmine Roads\n",
      "North Ginabury, DC 93431', '791-6633', 18746389, 12);\n",
      "INSERT INTO patients (SSN, patient_name, address, phone, insurance_id, primary_care_provider) VALUES(500000019, 'Alison Ramirez', '0244 Dennis Village Apt. 092\n",
      "Ashleyville, DC 25914', '992-7004', 55180762, 11);\n",
      "INSERT INTO patients (SSN, patient_name, address, phone, insurance_id, primary_care_provider) VALUES(500000020, 'Stephen Flowers', '012 Wong Landing\n",
      "Port Linda, IN 58376', '451-4448', 14997450, 8);\n",
      "INSERT INTO patients (SSN, patient_name, address, phone, insurance_id, primary_care_provider) VALUES(500000021, 'Daisy Harper', 'USNV Carter\n",
      "FPO AP 07541', '837-9525', 37262004, 6);\n",
      "INSERT INTO patients (SSN, patient_name, address, phone, insurance_id, primary_care_provider) VALUES(500000022, 'William Bell', '46089 Jose Knoll Suite 475\n",
      "Cartershire, NY 52789', '386-5619', 52975806, 2);\n",
      "INSERT INTO patients (SSN, patient_name, address, phone, insurance_id, primary_care_provider) VALUES(500000023, 'Brittany Smith', '961 Molly Valleys Apt. 218\n",
      "North Lindsay, SD 21354', '971-2088', 90921090, 9);\n",
      "INSERT INTO patients (SSN, patient_name, address, phone, insurance_id, primary_care_provider) VALUES(500000024, 'Jessica Ayers', '301 Johnson Fort\n",
      "Simmonsport, RI 81607', '516-8033', 81648937, 12);\n",
      "INSERT INTO patients (SSN, patient_name, address, phone, insurance_id, primary_care_provider) VALUES(500000025, 'Rebecca Ortega', '4926 Amanda Fields Suite 665\n",
      "Erikmouth, LA 68690', '408-4718', 54456325, 9);\n",
      "INSERT INTO patients (SSN, patient_name, address, phone, insurance_id, primary_care_provider) VALUES(500000026, 'Rebecca Walker MD', '5807 William Dam Suite 448\n",
      "West Paige, VA 82991', '421-4766', 86581248, 11);\n",
      "INSERT INTO patients (SSN, patient_name, address, phone, insurance_id, primary_care_provider) VALUES(500000027, 'John Hernandez', '110 Soto Pass Suite 058\n",
      "New Jennifermouth, MN 46016', '119-5488', 13444637, 5);\n",
      "INSERT INTO patients (SSN, patient_name, address, phone, insurance_id, primary_care_provider) VALUES(500000028, 'Tiffany Henry', '15428 Jimmy Fork\n",
      "East Christopher, NH 66372', '811-9537', 48627067, 6);\n",
      "INSERT INTO patients (SSN, patient_name, address, phone, insurance_id, primary_care_provider) VALUES(500000029, 'William Moreno', '2866 Jonathan Spring\n",
      "West Martinview, NV 13397', '770-4148', 10282002, 4);\n",
      "INSERT INTO patients (SSN, patient_name, address, phone, insurance_id, primary_care_provider) VALUES(500000030, 'Teresa Norris', '2493 Rivera Street\n",
      "Thomasberg, TN 79217', '276-3658', 81583767, 7);\n",
      "INSERT INTO patients (SSN, patient_name, address, phone, insurance_id, primary_care_provider) VALUES(500000031, 'Amy Johnson', '747 Melissa Station Suite 845\n",
      "Alexanderbury, FL 56222', '318-2969', 31142417, 11);\n",
      "INSERT INTO patients (SSN, patient_name, address, phone, insurance_id, primary_care_provider) VALUES(500000032, 'Marissa Banks', '6266 Martin Land Suite 538\n",
      "Tonyachester, KS 96355', '946-3706', 14627291, 13);\n",
      "INSERT INTO patients (SSN, patient_name, address, phone, insurance_id, primary_care_provider) VALUES(500000033, 'Crystal Winters', '698 Keith Court\n",
      "Bradtown, NM 77963', '371-3591', 75137641, 9);\n",
      "INSERT INTO patients (SSN, patient_name, address, phone, insurance_id, primary_care_provider) VALUES(500000034, 'Alan Melendez', 'Unit 1824 Box 7598\n",
      "DPO AE 04497', '322-7465', 74790147, 13);\n",
      "INSERT INTO patients (SSN, patient_name, address, phone, insurance_id, primary_care_provider) VALUES(500000035, 'Jenny White', '4846 Beck Summit Apt. 895\n",
      "West Vincent, KY 94715', '146-2294', 90304151, 6);\n",
      "INSERT INTO patients (SSN, patient_name, address, phone, insurance_id, primary_care_provider) VALUES(500000036, 'Cheyenne Collins', '33673 Jessica Manors\n",
      "Sarahstad, AK 17426', '767-2078', 82457398, 4);\n",
      "INSERT INTO patients (SSN, patient_name, address, phone, insurance_id, primary_care_provider) VALUES(500000037, 'Angel Kennedy', '903 Gutierrez Course Suite 548\n",
      "North Monicaburgh, MA 64444', '137-9384', 69702816, 12);\n",
      "INSERT INTO patients (SSN, patient_name, address, phone, insurance_id, primary_care_provider) VALUES(500000038, 'Mrs. Sara Rose', '799 Kenneth Unions Suite 958\n",
      "Newmanmouth, KS 23804', '243-6991', 52585744, 6);\n",
      "INSERT INTO patients (SSN, patient_name, address, phone, insurance_id, primary_care_provider) VALUES(500000039, 'Monique Simmons', '81407 Joan Prairie Apt. 604\n",
      "Port Jenniferburgh, MA 82598', '228-3944', 44152256, 13);\n",
      "INSERT INTO patients (SSN, patient_name, address, phone, insurance_id, primary_care_provider) VALUES(500000040, 'Angela Miller', '781 Hall Isle\n",
      "Matthewview, VT 55528', '229-6495', 85790662, 2);\n",
      "INSERT INTO patients (SSN, patient_name, address, phone, insurance_id, primary_care_provider) VALUES(500000041, 'Kathryn Warren', '91349 Wilkerson Vista\n",
      "Barbershire, MO 20400', '378-8018', 57594446, 12);\n",
      "INSERT INTO patients (SSN, patient_name, address, phone, insurance_id, primary_care_provider) VALUES(500000042, 'Michael Bryan', 'Unit 3728 Box 1587\n",
      "DPO AP 42010', '681-1744', 56358947, 6);\n",
      "INSERT INTO patients (SSN, patient_name, address, phone, insurance_id, primary_care_provider) VALUES(500000043, 'Samuel Reid', 'USCGC Drake\n",
      "FPO AE 88414', '694-2102', 85480536, 12);\n",
      "INSERT INTO patients (SSN, patient_name, address, phone, insurance_id, primary_care_provider) VALUES(500000044, 'Mary Berry', '656 Baker Ports\n",
      "South Deborahview, CO 98236', '160-7978', 88744924, 7);\n",
      "INSERT INTO patients (SSN, patient_name, address, phone, insurance_id, primary_care_provider) VALUES(500000045, 'Carl Turner', '66087 Brenda Forks Suite 741\n",
      "New Virginiaburgh, MS 53153', '911-8743', 60681154, 4);\n",
      "INSERT INTO patients (SSN, patient_name, address, phone, insurance_id, primary_care_provider) VALUES(500000046, 'Johnny Allen', '43130 Grant Mall\n",
      "West Robert, MI 59299', '639-2385', 63122064, 1);\n",
      "INSERT INTO patients (SSN, patient_name, address, phone, insurance_id, primary_care_provider) VALUES(500000047, 'Renee Delacruz', '92761 Amanda Springs\n",
      "Shannonchester, DC 04519', '190-1905', 39426852, 3);\n",
      "INSERT INTO patients (SSN, patient_name, address, phone, insurance_id, primary_care_provider) VALUES(500000048, 'Tammy Wall', '8569 Reynolds Fork Suite 334\n",
      "Smithview, GA 75858', '375-8860', 79922267, 12);\n",
      "INSERT INTO patients (SSN, patient_name, address, phone, insurance_id, primary_care_provider) VALUES(500000049, 'Jessica Parker', '2637 Ramsey Street Suite 734\n",
      "Millermouth, OK 43953', '298-8618', 14629298, 13);\n",
      "INSERT INTO patients (SSN, patient_name, address, phone, insurance_id, primary_care_provider) VALUES(500000050, 'Daniel Alvarez', '87187 Cathy Extensions\n",
      "Ellisside, ME 83414', '277-2219', 35018748, 7);\n",
      "INSERT INTO patients (SSN, patient_name, address, phone, insurance_id, primary_care_provider) VALUES(500000051, 'Justin Henry', '47449 Carmen Coves Apt. 500\n",
      "North Alicia, NM 85414', '362-3808', 84428132, 4);\n",
      "INSERT INTO patients (SSN, patient_name, address, phone, insurance_id, primary_care_provider) VALUES(500000052, 'Joshua Horton', '534 Cassidy Greens\n",
      "Debramouth, RI 90873', '449-7128', 48062668, 3);\n",
      "INSERT INTO patients (SSN, patient_name, address, phone, insurance_id, primary_care_provider) VALUES(500000053, 'Brittany Jones', '358 Curtis Turnpike Apt. 480\n",
      "New Richard, WI 59662', '470-6264', 97555370, 8);\n",
      "INSERT INTO patients (SSN, patient_name, address, phone, insurance_id, primary_care_provider) VALUES(500000054, 'Brian Mendoza', '29591 Miller Burg Apt. 541\n",
      "North Jennifer, KY 47678', '601-5581', 83658634, 9);\n",
      "INSERT INTO patients (SSN, patient_name, address, phone, insurance_id, primary_care_provider) VALUES(500000055, 'Abigail Gilbert', '91810 Jackson Canyon\n",
      "Paigemouth, OR 50108', '707-5507', 29424836, 4);\n",
      "INSERT INTO patients (SSN, patient_name, address, phone, insurance_id, primary_care_provider) VALUES(500000056, 'Christopher Gallagher', '287 Chad Mall\n",
      "Lake Williammouth, AR 49306', '845-9119', 89771021, 13);\n",
      "INSERT INTO patients (SSN, patient_name, address, phone, insurance_id, primary_care_provider) VALUES(500000057, 'Dana Parker', '2229 Watts Fort Apt. 001\n",
      "South Sethton, ID 35677', '591-7591', 43561750, 2);\n",
      "INSERT INTO patients (SSN, patient_name, address, phone, insurance_id, primary_care_provider) VALUES(500000058, 'Eileen Humphrey', '46932 Curtis Knoll Apt. 826\n",
      "Palmerland, TN 98537', '908-8739', 49126702, 6);\n",
      "INSERT INTO patients (SSN, patient_name, address, phone, insurance_id, primary_care_provider) VALUES(500000059, 'Kevin Long', '5116 Fisher Isle Apt. 177\n",
      "Wrighttown, NH 19889', '771-8545', 50256990, 5);\n",
      "INSERT INTO patients (SSN, patient_name, address, phone, insurance_id, primary_care_provider) VALUES(500000060, 'John Adams', '53961 William Square\n",
      "Ryanburgh, OR 46257', '626-7944', 29564521, 3);\n",
      "INSERT INTO patients (SSN, patient_name, address, phone, insurance_id, primary_care_provider) VALUES(500000061, 'Karen Dunn', '8522 Coleman Knoll\n",
      "East Deniseport, AK 32483', '569-2895', 95827239, 13);\n",
      "INSERT INTO patients (SSN, patient_name, address, phone, insurance_id, primary_care_provider) VALUES(500000062, 'Mark Alvarez', '9375 Washington Fords\n",
      "New Leonton, DE 35667', '695-2413', 38069760, 8);\n",
      "INSERT INTO patients (SSN, patient_name, address, phone, insurance_id, primary_care_provider) VALUES(500000063, 'Michelle Garcia', '38335 Combs Union\n",
      "South Matthew, GA 94273', '215-7546', 95770315, 12);\n",
      "INSERT INTO patients (SSN, patient_name, address, phone, insurance_id, primary_care_provider) VALUES(500000064, 'Michael Gonzales', '5339 Clark Common\n",
      "Brianaport, CA 21328', '619-4618', 96128196, 12);\n",
      "INSERT INTO patients (SSN, patient_name, address, phone, insurance_id, primary_care_provider) VALUES(500000065, 'Thomas Martin', '921 Richardson Village Apt. 508\n",
      "West Adriennemouth, NC 25544', '128-1788', 64297140, 8);\n",
      "INSERT INTO patients (SSN, patient_name, address, phone, insurance_id, primary_care_provider) VALUES(500000066, 'Tracy Luna', '4503 Brown Squares Suite 142\n",
      "Port Raymondton, ME 33399', '162-7702', 57908523, 11);\n",
      "INSERT INTO patients (SSN, patient_name, address, phone, insurance_id, primary_care_provider) VALUES(500000067, 'Sharon Rice', '075 Cynthia Lodge Suite 857\n",
      "East Gavinhaven, MA 07367', '567-8875', 90654235, 3);\n",
      "INSERT INTO patients (SSN, patient_name, address, phone, insurance_id, primary_care_provider) VALUES(500000068, 'Kimberly Moore', '5291 Mueller Mission Apt. 875\n",
      "Port Lisa, NJ 16928', '707-9684', 90236663, 6);\n",
      "INSERT INTO patients (SSN, patient_name, address, phone, insurance_id, primary_care_provider) VALUES(500000069, 'Christine Pitts', '363 Benton Streets\n",
      "Taylorhaven, KY 72544', '542-6340', 36857342, 1);\n",
      "INSERT INTO patients (SSN, patient_name, address, phone, insurance_id, primary_care_provider) VALUES(500000070, 'Anthony Anderson', '5259 Adam Port Apt. 799\n",
      "North Katherine, MS 04397', '466-5994', 51685317, 3);\n",
      "INSERT INTO patients (SSN, patient_name, address, phone, insurance_id, primary_care_provider) VALUES(500000071, 'Kristina Meyer', 'Unit 3958 Box 0934\n",
      "DPO AP 53340', '813-6726', 30807400, 5);\n",
      "INSERT INTO patients (SSN, patient_name, address, phone, insurance_id, primary_care_provider) VALUES(500000072, 'Jacob Lopez', '3670 James Fork\n",
      "East Williamburgh, DE 57499', '424-1353', 34942825, 13);\n",
      "INSERT INTO patients (SSN, patient_name, address, phone, insurance_id, primary_care_provider) VALUES(500000073, 'Thomas Ferguson', '599 Wendy Springs Apt. 524\n",
      "North Jennifershire, CO 06430', '857-6812', 40949259, 11);\n",
      "INSERT INTO patients (SSN, patient_name, address, phone, insurance_id, primary_care_provider) VALUES(500000074, 'Jamie Buckley', '65512 Burgess Fords\n",
      "Diazfort, NY 24895', '904-6865', 63422851, 13);\n",
      "INSERT INTO patients (SSN, patient_name, address, phone, insurance_id, primary_care_provider) VALUES(500000075, 'James Fuller', '597 Smith Well Suite 947\n",
      "Wyattmouth, MI 68430', '458-9121', 63613191, 9);\n",
      "INSERT INTO patients (SSN, patient_name, address, phone, insurance_id, primary_care_provider) VALUES(500000076, 'James Raymond', '1684 Gary Way Apt. 926\n",
      "Brownside, MI 67678', '403-9118', 16952166, 4);\n",
      "INSERT INTO patients (SSN, patient_name, address, phone, insurance_id, primary_care_provider) VALUES(500000077, 'Timothy Ramirez', 'Unit 3731 Box 6030\n",
      "DPO AE 54598', '217-8136', 58771421, 4);\n",
      "INSERT INTO patients (SSN, patient_name, address, phone, insurance_id, primary_care_provider) VALUES(500000078, 'Patricia Walker', '447 King Orchard Suite 987\n",
      "Williamsshire, AZ 88311', '219-8885', 34565877, 11);\n",
      "INSERT INTO patients (SSN, patient_name, address, phone, insurance_id, primary_care_provider) VALUES(500000079, 'Jennifer Marshall', '74244 Brianna Square Apt. 345\n",
      "Port Randall, ME 19555', '997-7423', 53081216, 10);\n",
      "INSERT INTO patients (SSN, patient_name, address, phone, insurance_id, primary_care_provider) VALUES(500000080, 'Katelyn Lee', '94235 Collin Land\n",
      "Wattsmouth, TN 22655', '511-8342', 67782980, 8);\n",
      "INSERT INTO patients (SSN, patient_name, address, phone, insurance_id, primary_care_provider) VALUES(500000081, 'Daniel Hicks', '55290 Owen Divide\n",
      "South Meganshire, NY 60659', '301-9077', 77662288, 13);\n",
      "INSERT INTO patients (SSN, patient_name, address, phone, insurance_id, primary_care_provider) VALUES(500000082, 'Amy Bailey', '340 Miller Wells\n",
      "Port Jillberg, OR 41076', '917-3600', 31994372, 8);\n",
      "INSERT INTO patients (SSN, patient_name, address, phone, insurance_id, primary_care_provider) VALUES(500000083, 'Mary Hunter', '745 Williams Mission\n",
      "Foxberg, DE 66898', '581-3489', 35934278, 10);\n",
      "INSERT INTO patients (SSN, patient_name, address, phone, insurance_id, primary_care_provider) VALUES(500000084, 'Jeremy Hester', '5480 Joseph Green\n",
      "Juantown, SD 30206', '133-2743', 42202400, 11);\n",
      "INSERT INTO patients (SSN, patient_name, address, phone, insurance_id, primary_care_provider) VALUES(500000085, 'David Haynes', '066 Heather Ridges Suite 361\n",
      "Karenfurt, KY 40559', '967-9959', 92089397, 9);\n",
      "INSERT INTO patients (SSN, patient_name, address, phone, insurance_id, primary_care_provider) VALUES(500000086, 'Dr. Austin Fowler', '27157 Amanda Mountains\n",
      "Anthonyshire, DE 49074', '246-2999', 63018438, 13);\n",
      "INSERT INTO patients (SSN, patient_name, address, phone, insurance_id, primary_care_provider) VALUES(500000087, 'Brooke Gutierrez MD', '66462 Natalie Lane Apt. 117\n",
      "Port Jesse, MO 07793', '959-6050', 58746047, 7);\n",
      "INSERT INTO patients (SSN, patient_name, address, phone, insurance_id, primary_care_provider) VALUES(500000088, 'Steven King', 'PSC 4704, Box 2612\n",
      "APO AE 04838', '759-2763', 62933796, 6);\n",
      "INSERT INTO patients (SSN, patient_name, address, phone, insurance_id, primary_care_provider) VALUES(500000089, 'Kelly Mathis', '10330 Craig Point\n",
      "Lake Jaimebury, OK 19932', '707-7516', 46293799, 11);\n",
      "INSERT INTO patients (SSN, patient_name, address, phone, insurance_id, primary_care_provider) VALUES(500000090, 'Michael Freeman', '04090 Stephanie Ports Apt. 957\n",
      "North Juliachester, MT 51565', '621-6242', 77256519, 6);\n",
      "INSERT INTO patients (SSN, patient_name, address, phone, insurance_id, primary_care_provider) VALUES(500000091, 'Michael Odom', 'PSC 6367, Box 6312\n",
      "APO AE 63726', '502-9412', 65785276, 7);\n",
      "INSERT INTO patients (SSN, patient_name, address, phone, insurance_id, primary_care_provider) VALUES(500000092, 'Desiree Phillips', '873 Russell Inlet Apt. 234\n",
      "Trevorton, WY 04239', '897-5824', 12646125, 7);\n",
      "INSERT INTO patients (SSN, patient_name, address, phone, insurance_id, primary_care_provider) VALUES(500000093, 'Stephanie Sandoval', '21301 Alisha Overpass Suite 588\n",
      "West Michaelastad, IA 09968', '569-2189', 19069324, 3);\n",
      "INSERT INTO patients (SSN, patient_name, address, phone, insurance_id, primary_care_provider) VALUES(500000094, 'Shannon Romero', '57815 Jose Meadows Apt. 451\n",
      "Harrisburgh, LA 09104', '521-1480', 80337810, 1);\n",
      "INSERT INTO patients (SSN, patient_name, address, phone, insurance_id, primary_care_provider) VALUES(500000095, 'John Wells', '8219 Hayley Landing Suite 086\n",
      "North Alejandroshire, DE 87533', '203-5707', 75666408, 10);\n",
      "INSERT INTO patients (SSN, patient_name, address, phone, insurance_id, primary_care_provider) VALUES(500000096, 'Madison Wilson', '7612 Ramirez Fork Suite 960\n",
      "Burkeburgh, TN 65986', '139-9062', 26953450, 7);\n",
      "INSERT INTO patients (SSN, patient_name, address, phone, insurance_id, primary_care_provider) VALUES(500000097, 'Jack Kelly', '00766 Juan Squares Apt. 339\n",
      "Paulland, CT 49897', '485-2086', 87998830, 3);\n",
      "INSERT INTO patients (SSN, patient_name, address, phone, insurance_id, primary_care_provider) VALUES(500000098, 'Colleen Thornton', 'PSC 9504, Box 9273\n",
      "APO AA 97664', '775-4843', 65918005, 4);\n",
      "INSERT INTO patients (SSN, patient_name, address, phone, insurance_id, primary_care_provider) VALUES(500000099, 'Amanda King', '600 Curry Pine Apt. 887\n",
      "Waynefort, KS 27597', '638-4182', 51597956, 8);\n",
      "INSERT INTO patients (SSN, patient_name, address, phone, insurance_id, primary_care_provider) VALUES(500000100, 'Laurie Callahan', '018 Hamilton Park Apt. 681\n",
      "Morganbury, MD 22737', '926-4686', 45782470, 2);\n",
      "INSERT INTO patients (SSN, patient_name, address, phone, insurance_id, primary_care_provider) VALUES(500000101, 'Travis Morris', '35790 Massey Mountains Suite 599\n",
      "New Michael, KY 75989', '232-1274', 11393412, 4);\n",
      "INSERT INTO patients (SSN, patient_name, address, phone, insurance_id, primary_care_provider) VALUES(500000102, 'Donna Ferguson', '43890 Derek Vista Apt. 625\n",
      "North Robert, MS 26239', '144-2480', 46093140, 2);\n",
      "INSERT INTO patients (SSN, patient_name, address, phone, insurance_id, primary_care_provider) VALUES(500000103, 'Jennifer Sampson', 'PSC 2755, Box 9106\n",
      "APO AA 63835', '958-4276', 97500700, 3);\n",
      "INSERT INTO patients (SSN, patient_name, address, phone, insurance_id, primary_care_provider) VALUES(500000104, 'Lindsey Moore', '45325 Robert Landing\n",
      "Lesterberg, DE 99503', '503-2349', 20568401, 1);\n",
      "INSERT INTO patients (SSN, patient_name, address, phone, insurance_id, primary_care_provider) VALUES(500000105, 'Richard Stout', '906 Michael Squares\n",
      "West Jonathanchester, VT 41090', '347-1377', 10850005, 8);\n",
      "INSERT INTO patients (SSN, patient_name, address, phone, insurance_id, primary_care_provider) VALUES(500000106, 'Kristin Mccarthy', '157 Wilson Burg\n",
      "Kimberlytown, WY 78882', '967-3832', 69459616, 2);\n",
      "INSERT INTO patients (SSN, patient_name, address, phone, insurance_id, primary_care_provider) VALUES(500000107, 'Curtis Collins', 'USNS Walter\n",
      "FPO AA 53954', '624-5057', 71198503, 11);\n",
      "INSERT INTO patients (SSN, patient_name, address, phone, insurance_id, primary_care_provider) VALUES(500000108, 'Miss Tammy Collins', '6611 Katrina Orchard\n",
      "West William, MA 94929', '179-6700', 83097723, 10);\n"
     ]
    }
   ],
   "source": [
    "# Call add_patients function and add 100 generated patients\n",
    "add_patients(100)"
   ]
  },
  {
   "cell_type": "markdown",
   "id": "cardiac-bundle",
   "metadata": {},
   "source": [
    "## Add patient stays to the hospital for given set of rooms"
   ]
  },
  {
   "cell_type": "code",
   "execution_count": 14,
   "id": "unique-wales",
   "metadata": {
    "scrolled": true
   },
   "outputs": [],
   "source": [
    "# Define hospital rooms\n",
    "rooms =  [i+j for i in range(100, 700, 100) for j in range(1, 11)]\n",
    "\n",
    "# Defines dates for which we will generate hospital stays\n",
    "dates = pd.to_datetime(pd.date_range(start=\"2020-01-01\",end=\"2020-05-10\"))\n",
    "\n",
    "# Defines a function that returns a dataframe of randomly generated patient stays\n",
    "def patient_stays():\n",
    "    # Create empty dataframe\n",
    "    cols = ['date','patient_SSN','room_number','stay_start','stay_end']\n",
    "    data = pd.DataFrame(columns = cols)\n",
    "    \n",
    "    # Create empty dictionaries to store patient and room data\n",
    "    occupied_rooms = {}\n",
    "    admitted_patients = {}\n",
    "    \n",
    "    # Iterate over all the days in the date range of interest\n",
    "    for date in dates:\n",
    "        daily_arrival = random.randint(0,3) # Here, we say on any day, between 0-3 people will arrive randomly\n",
    "        daily_patient_arrival = random.sample(SSN_list,daily_arrival) # Select the 0-3 patients from the patient list\n",
    "        \n",
    "        # If the occupied_rooms/admitted_patients dictionary is not empty, subtract 1 day from the amount of \n",
    "        # time a patient is in the hospital from the total time they were set to stay in the hospital\n",
    "        if len(occupied_rooms) != 0:\n",
    "            occupied_rooms = {key: val - 1 for key, val in occupied_rooms.items()}\n",
    "    \n",
    "        if len(admitted_patients) != 0:\n",
    "            admitted_patients = {key: val - 1 for key, val in admitted_patients.items()}\n",
    "        \n",
    "        # Delete patients and rooms from the list if they free up after a patient stay\n",
    "        admitted_patients = {key:val for key, val in admitted_patients.items() if val >= 0}              \n",
    "        occupied_rooms = {key:val for key, val in occupied_rooms.items() if val >= 0}    \n",
    "        \n",
    "        # Iterate over the randomly generated list of patients\n",
    "        for patient in daily_patient_arrival:\n",
    "            \n",
    "            # If the randomly generated patient is already in the hospital, do nothing; \n",
    "            # If the randomly generated patient is new, assign them a room and hospital stay length in days\n",
    "            if (patient not in admitted_patients):\n",
    "                \n",
    "                # Randomly sample a room\n",
    "                assigned_room = random.choice(rooms)\n",
    "                \n",
    "                # If the room is already occupied, keep checking for a free room\n",
    "                while (assigned_room in occupied_rooms): \n",
    "                    assigned_room = random.choice(rooms)\n",
    "\n",
    "                # Here, we say people stay on average 2 day with a 1 day std.dev.    \n",
    "                stay_length = abs(round(np.random.normal(2,1),0)) \n",
    "                stay_start = datetime.datetime.strptime(str(date),'%Y-%m-%d %H:%M:%S').date()\n",
    "                stay_end = stay_start + datetime.timedelta(days=stay_length)\n",
    "                \n",
    "                # Add new patient/room (key) and stay_length (value) to the occupied_rooms and admitted_patients dictionaries\n",
    "                occupied_rooms[assigned_room] = stay_length\n",
    "                admitted_patients[patient] = stay_length\n",
    "\n",
    "                data = data.append({'date':stay_start,'patient_SSN':patient,'room_number':assigned_room,'stay_start':stay_start,'stay_end':stay_end},ignore_index=True)\n",
    "                \n",
    "    return data"
   ]
  },
  {
   "cell_type": "markdown",
   "id": "tender-yellow",
   "metadata": {},
   "source": [
    "## Check added patient stay data for duplicates or error entries "
   ]
  },
  {
   "cell_type": "code",
   "execution_count": 15,
   "id": "signal-italian",
   "metadata": {},
   "outputs": [
    {
     "name": "stdout",
     "output_type": "stream",
     "text": [
      "185\n",
      "185\n"
     ]
    }
   ],
   "source": [
    "# Call patient_stays function \n",
    "stay_data = patient_stays()\n",
    "\n",
    "# Number of rows in data\n",
    "print(len(stay_data.index))\n",
    "\n",
    "# Check for duplicates (e.g., there should not be two entries with same data and room_number)\n",
    "stay_data = stay_data.drop_duplicates(subset=['date','room_number'])\n",
    "\n",
    "# Number of rows in clean data\n",
    "print(len(stay_data.index))"
   ]
  },
  {
   "cell_type": "markdown",
   "id": "individual-killing",
   "metadata": {},
   "source": [
    "## Create dataframe for each day and each hospital room"
   ]
  },
  {
   "cell_type": "code",
   "execution_count": null,
   "id": "packed-bookmark",
   "metadata": {},
   "outputs": [],
   "source": [
    "# Define function that creates dataframe with entry for each day in desired date range and each hospital room (\"room_table\")\n",
    "def room_table():\n",
    "    cols = ['date','room_number']\n",
    "    room_df = pd.DataFrame(columns = cols)\n",
    "    for date in dates:\n",
    "        for room in rooms:\n",
    "            current_room = room\n",
    "            current_date = date\n",
    "            room_df = room_df.append({'date':current_date,'room_number':current_room},ignore_index=True)\n",
    "    return room_df        "
   ]
  },
  {
   "cell_type": "code",
   "execution_count": null,
   "id": "addressed-essence",
   "metadata": {},
   "outputs": [],
   "source": [
    "# Call function\n",
    "room_df = room_table()  "
   ]
  },
  {
   "cell_type": "markdown",
   "id": "entitled-front",
   "metadata": {},
   "source": [
    "## Merge room_table with stay_data for database schema "
   ]
  },
  {
   "cell_type": "code",
   "execution_count": null,
   "id": "welsh-drill",
   "metadata": {},
   "outputs": [],
   "source": [
    "# Use python sqlite3 to merge\n",
    "conn = sqlite3.connect(':memory:')\n",
    "\n",
    "# Send room_df and stay_data to sql\n",
    "room_df.to_sql('rooms', conn, index=False)\n",
    "stay_data.to_sql('stay_data', conn, index=False)"
   ]
  },
  {
   "cell_type": "code",
   "execution_count": null,
   "id": "proprietary-master",
   "metadata": {},
   "outputs": [],
   "source": [
    "# SQL code to merge the two tables\n",
    "qry = '''\n",
    "    SELECT a.date, a.room_number, b.patient_SSN, b.stay_start, b.stay_end\n",
    "    FROM rooms a\n",
    "        LEFT JOIN stay_data b ON (a.date >= b.stay_start AND a.date <= b.stay_end) AND a.room_number = b.room_number\n",
    "    ORDER BY a.date, a.room_number;\n",
    "    '''\n",
    "# Send output of SQL query to pandas df\n",
    "df = pd.read_sql_query(qry,conn)\n",
    "\n",
    "# Output dataframes to csv for additional error checking\n",
    "stay_data.to_csv('stay_data_check.csv')\n",
    "df.to_csv('df_check.csv')"
   ]
  },
  {
   "cell_type": "markdown",
   "id": "floral-barcelona",
   "metadata": {},
   "source": [
    "## Add availability column to dataframe and write INSERT INTO statements "
   ]
  },
  {
   "cell_type": "code",
   "execution_count": null,
   "id": "native-prairie",
   "metadata": {},
   "outputs": [],
   "source": [
    "# Add new availability column (true=room available, false = room occupied)\n",
    "df['room_available'] = np.where(np.isnan(df['patient_SSN']),True,False)\n",
    "\n",
    "# Remove timestamp from date column\n",
    "df['date'] = pd.to_datetime(df['date'])\n",
    "df['date'] = df['date'].dt.date\n",
    "\n",
    "# Convert patient_SSN from float64 to object\n",
    "df['patient_SSNs'] = np.where(np.isnan(df['patient_SSN']),'Null',df['patient_SSN'])\n",
    "df['patient_SSNs'] = df['patient_SSNs'].str.replace('.0','',regex=False)"
   ]
  },
  {
   "cell_type": "code",
   "execution_count": null,
   "id": "substantial-controversy",
   "metadata": {},
   "outputs": [],
   "source": [
    "# Create SQL insert statements for 'room_stays' table\n",
    "for index, row in df.iterrows():\n",
    "    print(f\"INSERT INTO room_stays (room_number, room_date, patient_SSN, room_available) VALUES({row['room_number']},'{row['date']}',{row['patient_SSNs']},{row['room_available']});\")"
   ]
  },
  {
   "cell_type": "code",
   "execution_count": null,
   "id": "operating-techno",
   "metadata": {},
   "outputs": [],
   "source": [
    "# Create SQL insert statements for 'rooms' table\n",
    "for room in rooms:\n",
    "    print(f\"INSERT INTO rooms (room_number, room_type) VALUES({room},'Single');\")"
   ]
  },
  {
   "cell_type": "code",
   "execution_count": null,
   "id": "missing-large",
   "metadata": {},
   "outputs": [],
   "source": [
    "# Create SQL insert statements for 'stays' table\n",
    "for index, row in df.iterrows():\n",
    "    if row['patient_SSNs'] != 'Null':\n",
    "        print(f\"INSERT INTO stays (patient_SSN, room_number, stay_start, stay_end) VALUES({row['patient_SSNs']},{row['room_number']},'{row['stay_start']}','{row['stay_end']}');\")"
   ]
  }
 ],
 "metadata": {
  "kernelspec": {
   "display_name": "Python 3",
   "language": "python",
   "name": "python3"
  },
  "language_info": {
   "codemirror_mode": {
    "name": "ipython",
    "version": 3
   },
   "file_extension": ".py",
   "mimetype": "text/x-python",
   "name": "python",
   "nbconvert_exporter": "python",
   "pygments_lexer": "ipython3",
   "version": "3.8.5"
  }
 },
 "nbformat": 4,
 "nbformat_minor": 5
}
