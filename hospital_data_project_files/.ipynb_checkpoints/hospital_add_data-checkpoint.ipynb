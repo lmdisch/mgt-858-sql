{
 "cells": [
  {
   "cell_type": "markdown",
   "id": "broke-yellow",
   "metadata": {},
   "source": [
    "# MGT 858: Database Systems\n",
    "## Hospital Data Schema\n",
    "\n",
    "The code written below seeks to add data to a postgresql database"
   ]
  },
  {
   "cell_type": "markdown",
   "id": "worse-frame",
   "metadata": {},
   "source": [
    "### Import packages"
   ]
  },
  {
   "cell_type": "code",
   "execution_count": null,
   "id": "pregnant-musician",
   "metadata": {},
   "outputs": [],
   "source": [
    "import random\n",
    "import numpy as np\n",
    "import pandas as pd\n",
    "from datetime import timedelta\n",
    "import datetime\n",
    "import sqlite3\n",
    "from faker import Faker"
   ]
  },
  {
   "cell_type": "markdown",
   "id": "floppy-rugby",
   "metadata": {},
   "source": [
    "### Add randomly generated patients to the hospital "
   ]
  },
  {
   "cell_type": "code",
   "execution_count": null,
   "id": "going-demographic",
   "metadata": {},
   "outputs": [],
   "source": [
    "# Pre-existing SSNs for patients\n",
    "SSN_list = []\n",
    "\n",
    "# Create randomly generated data for new patients\n",
    "def add_patients(num_to_add):\n",
    "    fake = Faker()\n",
    "    for i in range(num_to_add):\n",
    "        SSN = 500000009 + i\n",
    "        SSN_list.append(SSN)\n",
    "        full_name = fake.name()\n",
    "        address = fake.address()\n",
    "        phone_number = str(random.randint(100,999)) + \"-\" + str(random.randint(1000,9999))\n",
    "        insurance_id = random.randint(10000000,99999999)\n",
    "        pcp = random.randint(1,13)\n",
    "        with open(\"outputs/patients.txt\", \"a+\") as patient_text:\n",
    "            print(f\"INSERT INTO patients (SSN, patient_name, address, phone, insurance_id, primary_care_provider) VALUES({SSN}, '{full_name}', '{address}', '{phone_number}', {insurance_id}, {pcp});\", file=patient_text)  "
   ]
  },
  {
   "cell_type": "code",
   "execution_count": null,
   "id": "complimentary-bandwidth",
   "metadata": {},
   "outputs": [],
   "source": [
    "# Call add_patients function and add 100 generated patients\n",
    "add_patients(500)"
   ]
  },
  {
   "cell_type": "markdown",
   "id": "cardiac-bundle",
   "metadata": {},
   "source": [
    "## Add patient stays to the hospital for given set of rooms"
   ]
  },
  {
   "cell_type": "code",
   "execution_count": null,
   "id": "willing-backup",
   "metadata": {},
   "outputs": [],
   "source": [
    "# Import hospital length of stay data\n",
    "stay_length_data = pd.read_csv(\"data/los_data.csv\")\n",
    "\n",
    "los_df = stay_length_data[['length_stay','prob_length_stay']]\n",
    "\n",
    "days_in_hospital = los_df['length_stay'].tolist()\n",
    "prob_in_hospital = los_df['prob_length_stay'].tolist()\n",
    "\n",
    "days_in_hospital = np.array((days_in_hospital),dtype=np.float64)"
   ]
  },
  {
   "cell_type": "code",
   "execution_count": null,
   "id": "unique-wales",
   "metadata": {
    "scrolled": true
   },
   "outputs": [],
   "source": [
    "# Define hospital rooms\n",
    "rooms =  [i+j for i in range(100, 700, 100) for j in range(1, 11)]\n",
    "\n",
    "# Defines dates for which we will generate hospital stays\n",
    "dates = pd.to_datetime(pd.date_range(start=\"2020-01-01\",end=\"2020-08-01\"))\n",
    "\n",
    "# Defines a function that returns a dataframe of randomly generated patient stays\n",
    "def patient_stays():\n",
    "    # Create empty dataframe\n",
    "    cols = ['date','patient_SSN','room_number','stay_start','stay_end']\n",
    "    data = pd.DataFrame(columns = cols)\n",
    "    \n",
    "    # Create empty dictionaries to store patient and room data\n",
    "    occupied_rooms = {}\n",
    "    admitted_patients = {}\n",
    "    \n",
    "    # Separate week days by how likely patients will come to the hospital and stay\n",
    "    busy_days = ['Monday','Thursday','Friday','Saturday']  \n",
    "    \n",
    "    # Iterate over all the days in the date range of interest\n",
    "    for date in dates:\n",
    "        \n",
    "        if (date.strftime('%A') in busy_days):\n",
    "            daily_arrival = random.randint(3,10) # Here, we say on a busy day, between 3-10 people will arrive randomly\n",
    "        else:\n",
    "            daily_arrival = random.randint(0,3) # Here, we say on a non-busy day, between 0-e people will arrive randomly\n",
    "        \n",
    "        daily_patient_arrival = random.sample(SSN_list,daily_arrival) # Select patients from the patient list\n",
    "        \n",
    "        # If the occupied_rooms/admitted_patients dictionary is not empty, subtract 1 day from the amount of \n",
    "        # time a patient is in the hospital from the total time they were set to stay in the hospital\n",
    "        if len(occupied_rooms) != 0:\n",
    "            occupied_rooms = {key: val - 1 for key, val in occupied_rooms.items()}\n",
    "    \n",
    "        if len(admitted_patients) != 0:\n",
    "            admitted_patients = {key: val - 1 for key, val in admitted_patients.items()}\n",
    "        \n",
    "        # Delete patients and rooms from the list if they free up after a patient stay\n",
    "        admitted_patients = {key:val for key, val in admitted_patients.items() if val >= 0}              \n",
    "        occupied_rooms = {key:val for key, val in occupied_rooms.items() if val >= 0}    \n",
    "        \n",
    "        # Iterate over the randomly generated list of patients\n",
    "        for patient in daily_patient_arrival:\n",
    "            \n",
    "            # If the randomly generated patient is already in the hospital, do nothing; \n",
    "            # If the randomly generated patient is new, assign them a room and hospital stay length in days\n",
    "            if (patient not in admitted_patients):\n",
    "                \n",
    "                # Randomly sample a room\n",
    "                assigned_room = random.choice(rooms)\n",
    "                \n",
    "                # If the room is already occupied, keep checking for a free room\n",
    "                while (assigned_room in occupied_rooms): \n",
    "                    assigned_room = random.choice(rooms)\n",
    "\n",
    "                # Here, we use the predetermined length of stay data     \n",
    "                stay_length = np.random.choice(days_in_hospital,p=prob_in_hospital)\n",
    "                stay_start = datetime.datetime.strptime(str(date),'%Y-%m-%d %H:%M:%S').date()\n",
    "                stay_end = stay_start + datetime.timedelta(days=stay_length)\n",
    "                \n",
    "                # Add new patient/room (key) and stay_length (value) to the occupied_rooms and admitted_patients dictionaries\n",
    "                occupied_rooms[assigned_room] = stay_length\n",
    "                admitted_patients[patient] = stay_length\n",
    "\n",
    "                data = data.append({'date':stay_start,'patient_SSN':patient,'room_number':assigned_room,'stay_start':stay_start,'stay_end':stay_end},ignore_index=True)\n",
    "                \n",
    "    return data"
   ]
  },
  {
   "cell_type": "markdown",
   "id": "tender-yellow",
   "metadata": {},
   "source": [
    "## Check added patient stay data for duplicates or error entries "
   ]
  },
  {
   "cell_type": "code",
   "execution_count": null,
   "id": "signal-italian",
   "metadata": {},
   "outputs": [],
   "source": [
    "# Call patient_stays function \n",
    "stay_data = patient_stays()\n",
    "\n",
    "# Number of rows in data\n",
    "print(len(stay_data.index))\n",
    "\n",
    "# Check for duplicates (e.g., there should not be two entries with same date and room_number)\n",
    "stay_data = stay_data.drop_duplicates(subset=['date','room_number'])\n",
    "\n",
    "# Number of rows in clean data\n",
    "print(len(stay_data.index))"
   ]
  },
  {
   "cell_type": "markdown",
   "id": "individual-killing",
   "metadata": {},
   "source": [
    "## Create dataframe for each day and each hospital room"
   ]
  },
  {
   "cell_type": "code",
   "execution_count": null,
   "id": "packed-bookmark",
   "metadata": {},
   "outputs": [],
   "source": [
    "# Define function that creates dataframe with entry for each day in desired date range and each hospital room (\"room_table\")\n",
    "def room_table():\n",
    "    cols = ['date','room_number']\n",
    "    room_df = pd.DataFrame(columns = cols)\n",
    "    for date in dates:\n",
    "        for room in rooms:\n",
    "            current_room = room\n",
    "            current_date = date\n",
    "            room_df = room_df.append({'date':current_date,'room_number':current_room},ignore_index=True)\n",
    "    return room_df        "
   ]
  },
  {
   "cell_type": "code",
   "execution_count": null,
   "id": "addressed-essence",
   "metadata": {},
   "outputs": [],
   "source": [
    "# Call function\n",
    "room_df = room_table()  "
   ]
  },
  {
   "cell_type": "markdown",
   "id": "entitled-front",
   "metadata": {},
   "source": [
    "## Merge room_table with stay_data for database schema "
   ]
  },
  {
   "cell_type": "code",
   "execution_count": null,
   "id": "welsh-drill",
   "metadata": {},
   "outputs": [],
   "source": [
    "# Use python sqlite3 to merge\n",
    "conn = sqlite3.connect(':memory:')\n",
    "\n",
    "# Send room_df and stay_data to sql\n",
    "room_df.to_sql('rooms', conn, index=False)\n",
    "stay_data.to_sql('stay_data', conn, index=False)"
   ]
  },
  {
   "cell_type": "code",
   "execution_count": null,
   "id": "proprietary-master",
   "metadata": {},
   "outputs": [],
   "source": [
    "# SQL code to merge the two tables\n",
    "qry = '''\n",
    "    SELECT a.date, a.room_number, b.patient_SSN, b.stay_start, b.stay_end\n",
    "    FROM rooms a\n",
    "        LEFT JOIN stay_data b ON (a.date >= b.stay_start AND a.date <= b.stay_end) AND a.room_number = b.room_number\n",
    "    ORDER BY a.date, a.room_number;\n",
    "    '''\n",
    "# Send output of SQL query to pandas df\n",
    "df = pd.read_sql_query(qry,conn)\n",
    "\n",
    "# Output dataframes to csv for additional error checking\n",
    "stay_data.to_csv('data/stay_data_check.csv')\n",
    "df.to_csv('data/df_check.csv')"
   ]
  },
  {
   "cell_type": "markdown",
   "id": "floral-barcelona",
   "metadata": {},
   "source": [
    "## Create dataset for stays and room_stays tables"
   ]
  },
  {
   "cell_type": "code",
   "execution_count": null,
   "id": "native-prairie",
   "metadata": {},
   "outputs": [],
   "source": [
    "# Add new availability column (true=room available, false = room occupied)\n",
    "df['room_available'] = np.where(np.isnan(df['patient_SSN']),True,False)\n",
    "\n",
    "# Remove timestamp from date column\n",
    "df['date'] = pd.to_datetime(df['date'])\n",
    "df['date'] = df['date'].dt.date\n",
    "\n",
    "# Convert patient_SSN from float64 to object\n",
    "df['patient_SSNs'] = np.where(np.isnan(df['patient_SSN']),'Null',df['patient_SSN'])\n",
    "df['patient_SSNs'] = df['patient_SSNs'].str.replace('.0','',regex=False)"
   ]
  },
  {
   "cell_type": "code",
   "execution_count": null,
   "id": "substantial-controversy",
   "metadata": {},
   "outputs": [],
   "source": [
    "# Create SQL insert statements for 'room_stays' table\n",
    "def room_stays():\n",
    "    for index, row in df.iterrows():\n",
    "        with open(\"outputs/room_stays.txt\", \"a+\") as room_stays_text:\n",
    "            print(f\"INSERT INTO room_stays (room_number, room_date, patient_SSN, room_available) VALUES({row['room_number']},'{row['date']}',{row['patient_SSNs']},{row['room_available']});\", file=room_stays_text)\n",
    "    \n",
    "room_stays()"
   ]
  },
  {
   "cell_type": "code",
   "execution_count": null,
   "id": "missing-large",
   "metadata": {},
   "outputs": [],
   "source": [
    "# Create SQL insert statements for 'stays' table\n",
    "def stays():\n",
    "    for index, row in stay_data.iterrows():\n",
    "        with open(\"outputs/stays.txt\",\"a+\") as stays_text:\n",
    "            print(f\"INSERT INTO stays (patient_SSN, room_number, stay_start, stay_end) VALUES({row['patient_SSN']},{row['room_number']},'{row['stay_start']}','{row['stay_end']}');\",file=stays_text)\n",
    "\n",
    "stays()"
   ]
  },
  {
   "cell_type": "markdown",
   "id": "hourly-adventure",
   "metadata": {},
   "source": [
    "## Create dataset for procedures table"
   ]
  },
  {
   "cell_type": "code",
   "execution_count": null,
   "id": "indirect-deposit",
   "metadata": {},
   "outputs": [],
   "source": [
    "# Here, it is assumed that any patient that stayed in the hospital longer than 20 days had a procedure\n",
    "\n",
    "# Calculate stay length\n",
    "stay_data['los'] = stay_data['stay_end'] - stay_data['stay_start']\n",
    "stay_data['los_days'] = stay_data['los'].astype('timedelta64[D]')\n",
    "\n",
    "# Filter for patients who had a stay length > 10 days\n",
    "stay_data_proc = stay_data[stay_data['los']>='20 days']\n",
    "\n",
    "# Check for duplicate patients staying in hospital >20 days\n",
    "dup_pat_check = stay_data_proc['patient_SSN'].duplicated().any()\n",
    "print(dup_pat_check) # False = no dups"
   ]
  },
  {
   "cell_type": "code",
   "execution_count": null,
   "id": "surprising-restoration",
   "metadata": {},
   "outputs": [],
   "source": [
    "def undergoes():\n",
    "    surgeon_ids = [3,7,10,12,13]\n",
    "    exam_rooms = ['A','B','C']\n",
    "    for index, row in stay_data_proc.iterrows():\n",
    "        patient = row['patient_SSN'] \n",
    "        procedure = random.randint(1,18)\n",
    "        date = row['date']\n",
    "        physician = random.choice(surgeon_ids)\n",
    "        nurse = random.randint(1,3)\n",
    "        exam_room = random.choice(exam_rooms)\n",
    "        with open(\"outputs/undergoes.txt\",\"a+\") as proc_text:\n",
    "            print(f\"INSERT INTO undergoes (patient, procedure, surgery_date, physician, nurse) VALUES({patient},{procedure},'{date}',{physician},{nurse});\",file=proc_text)\n",
    "            \n",
    "        with open(\"outputs/appointments.txt\",\"a+\") as appt_text:\n",
    "            print(f\"INSERT INTO appointments (patient_id, prep_nurse, physician, appointment_date, exam_room) VALUES({patient},{nurse},{physician},'{date}','{exam_room}');\",file=appt_text)\n",
    "            \n",
    "\n",
    "undergoes()"
   ]
  },
  {
   "cell_type": "markdown",
   "id": "increased-puzzle",
   "metadata": {},
   "source": [
    "## Create prescribes dataset + update appointments data"
   ]
  },
  {
   "cell_type": "code",
   "execution_count": null,
   "id": "duplicate-statement",
   "metadata": {},
   "outputs": [],
   "source": [
    "def prescribes():\n",
    "    exam_rooms = ['A','B','C']\n",
    "    for index, row in stay_data_proc.iterrows():\n",
    "        bool_test = random.randint(0,1)\n",
    "        if (bool_test == 1):\n",
    "            physician = random.randint(1,13)\n",
    "            patient = row['patient_SSN']\n",
    "            medication = random.randint(1,7)\n",
    "            date = row['date']\n",
    "            dose = random.choice([5,25,50,125,200])\n",
    "            with open(\"outputs/prescribes.txt\",\"a+\") as pres_text:\n",
    "                print(f\"INSERT INTO prescribes (physician, patient, medication, appt_date, dose) VALUES({physician},{patient},{medication},'{appt_date}','{dose}');\",file=pres_text)\n",
    "\n",
    "prescribes()"
   ]
  }
 ],
 "metadata": {
  "kernelspec": {
   "display_name": "Python 3",
   "language": "python",
   "name": "python3"
  },
  "language_info": {
   "codemirror_mode": {
    "name": "ipython",
    "version": 3
   },
   "file_extension": ".py",
   "mimetype": "text/x-python",
   "name": "python",
   "nbconvert_exporter": "python",
   "pygments_lexer": "ipython3",
   "version": "3.8.5"
  }
 },
 "nbformat": 4,
 "nbformat_minor": 5
}
